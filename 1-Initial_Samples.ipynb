{
 "cells": [
  {
   "cell_type": "markdown",
   "metadata": {},
   "source": [
    "# Jupyter Notebook using Scala\n",
    "\n",
    "This sample notebook shows how to use Jupyter Notebook with Scala.\n",
    "\n",
    "The code imports some libraries, creates some data and plts it with a visualization library.\n",
    "\n",
    "We use the `almond` kernel to run Scala code in Jupyter Notebook and show some basic examples.\n",
    "\n",
    "Check the [README](Readme.md) file for more information about how to install and use Jupyter Notebook with Scala. After installing, open the notebook and select the Scala kernel \"Scala 3.3\" on the top right corner."
   ]
  },
  {
   "cell_type": "code",
   "execution_count": 1,
   "metadata": {},
   "outputs": [],
   "source": [
    "// Add this cell to any notebook to load the setup.sc file, run this cell first\n",
    "interp.load.module(os.pwd / \"source\" / \"setup.sc\")"
   ]
  },
  {
   "cell_type": "markdown",
   "metadata": {},
   "source": [
    "Some initial code to test the kernel:"
   ]
  },
  {
   "cell_type": "code",
   "execution_count": 2,
   "metadata": {},
   "outputs": [
    {
     "name": "stdout",
     "output_type": "stream",
     "text": [
      "Hello, World!\n",
      "Scala Version: 3.3.3\n"
     ]
    }
   ],
   "source": [
    "println(\"Hello, World!\")\n",
    "println(s\"Scala Version: ${dotty.tools.dotc.config.Properties.simpleVersionString}\") // Scala 3\n",
    "\n",
    "// We can also request user input by using Jupyter API\n",
    "//val result = Input().withPrompt(\"Enter your name: \").request()\n",
    "//println(s\"You entered: $result\")"
   ]
  },
  {
   "cell_type": "markdown",
   "metadata": {},
   "source": [
    "Let's test some code importing a library and using it to print some messages."
   ]
  },
  {
   "cell_type": "code",
   "execution_count": 3,
   "metadata": {},
   "outputs": [
    {
     "name": "stdout",
     "output_type": "stream",
     "text": [
      "\u001b[31mHello \u001b[34mWorld\u001b[39m\n"
     ]
    }
   ],
   "source": [
    "import $ivy.`com.lihaoyi::fansi:0.5.0`\n",
    "import fansi.*\n",
    "\n",
    "println(Color.Red(\"Hello \") ++ Color.Blue(\"World\"))"
   ]
  },
  {
   "cell_type": "markdown",
   "metadata": {},
   "source": [
    "Define a function in a cell and use it later on another cell."
   ]
  },
  {
   "cell_type": "code",
   "execution_count": 4,
   "metadata": {},
   "outputs": [],
   "source": [
    "def fib(n: Int): Int =\n",
    "  if (n <= 1) n\n",
    "  else fib(n - 1) + fib(n - 2)"
   ]
  },
  {
   "cell_type": "code",
   "execution_count": 5,
   "metadata": {},
   "outputs": [
    {
     "name": "stdout",
     "output_type": "stream",
     "text": [
      "Fib 10: 55\n"
     ]
    }
   ],
   "source": [
    "println(\"Fib 10: \" + fib(10))"
   ]
  },
  {
   "cell_type": "markdown",
   "metadata": {},
   "source": [
    "## Lets display some graphs using dedav4s library"
   ]
  },
  {
   "cell_type": "code",
   "execution_count": 6,
   "metadata": {},
   "outputs": [
    {
     "data": {
      "application/vnd.vega.v5+json": {
       "$schema": "https://vega.github.io/schema/vega/v5.json",
       "axes": [
        {
         "orient": "bottom",
         "scale": "xscale"
        },
        {
         "orient": "left",
         "scale": "yscale"
        }
       ],
       "data": [
        {
         "name": "table",
         "values": [
          {
           "amount": 5,
           "category": "A"
          },
          {
           "amount": 8,
           "category": "B"
          },
          {
           "amount": -1,
           "category": "C"
          }
         ]
        }
       ],
       "description": "A basic bar chart example, with value labels shown upon pointer hover.",
       "height": 300,
       "marks": [
        {
         "encode": {
          "enter": {
           "width": {
            "band": 1,
            "scale": "xscale"
           },
           "x": {
            "field": "category",
            "scale": "xscale"
           },
           "y": {
            "field": "amount",
            "scale": "yscale"
           },
           "y2": {
            "scale": "yscale",
            "value": 0
           }
          },
          "hover": {
           "fill": {
            "value": "red"
           }
          },
          "update": {
           "fill": {
            "value": "steelblue"
           }
          }
         },
         "from": {
          "data": "table"
         },
         "type": "rect"
        },
        {
         "encode": {
          "enter": {
           "align": {
            "value": "center"
           },
           "baseline": {
            "value": "bottom"
           },
           "fill": {
            "value": "#333"
           }
          },
          "update": {
           "fillOpacity": [
            {
             "test": "datum === tooltip",
             "value": 0
            },
            {
             "value": 1
            }
           ],
           "text": {
            "signal": "tooltip.amount"
           },
           "x": {
            "band": 0.5,
            "scale": "xscale",
            "signal": "tooltip.category"
           },
           "y": {
            "offset": -2,
            "scale": "yscale",
            "signal": "tooltip.amount"
           }
          }
         },
         "type": "text"
        }
       ],
       "padding": 5,
       "scales": [
        {
         "domain": {
          "data": "table",
          "field": "category"
         },
         "name": "xscale",
         "padding": 0.05,
         "range": "width",
         "round": true,
         "type": "band"
        },
        {
         "domain": {
          "data": "table",
          "field": "amount"
         },
         "name": "yscale",
         "nice": true,
         "range": "height"
        }
       ],
       "signals": [
        {
         "name": "tooltip",
         "on": [
          {
           "events": "rect:pointerover",
           "update": "datum"
          },
          {
           "events": "rect:pointerout",
           "update": "{}"
          }
         ],
         "value": {}
        }
       ],
       "title": "Got Viz?",
       "width": 600
      }
     },
     "metadata": {},
     "output_type": "display_data"
    }
   ],
   "source": [
    "import $ivy.`io.github.quafadas::dedav4s:0.9.3`\n",
    "\n",
    "import viz.PlotTargets.almond\n",
    "import viz.extensions.RawIterables.*\n",
    "\n",
    "val chartData = List((\"A\",5),(\"B\",8),(\"C\",-1))\n",
    "\n",
    "chartData.plotBarChart(\n",
    "   List(\n",
    "        spec => spec(\"title\") = \"Got Viz?\",\n",
    "        spec => {spec(\"height\") = 300; spec(\"width\") = 600}\n",
    "\n",
    "    )\n",
    ")"
   ]
  },
  {
   "cell_type": "markdown",
   "metadata": {},
   "source": [
    "Another example using the `dedav4s` library to plot word cloud:"
   ]
  },
  {
   "cell_type": "code",
   "execution_count": 7,
   "metadata": {},
   "outputs": [
    {
     "data": {
      "application/vnd.vega.v5+json": {
       "$schema": "https://vega.github.io/schema/vega/v5.json",
       "data": [
        {
         "name": "table",
         "transform": [
          {
           "case": "upper",
           "field": "data",
           "pattern": "[\\w']{3,}",
           "stopwords": "(i|me|my|myself|we|us|our|ours|ourselves|you|your|yours|yourself|yourselves|he|him|his|himself|she|her|hers|herself|it|its|itself|they|them|their|theirs|themselves|what|which|who|whom|whose|this|that|these|those|am|is|are|was|were|be|been|being|have|has|had|having|do|does|did|doing|will|would|should|can|could|ought|i'm|you're|he's|she's|it's|we're|they're|i've|you've|we've|they've|i'd|you'd|he'd|she'd|we'd|they'd|i'll|you'll|he'll|she'll|we'll|they'll|isn't|aren't|wasn't|weren't|hasn't|haven't|hadn't|doesn't|don't|didn't|won't|wouldn't|shan't|shouldn't|can't|cannot|couldn't|mustn't|let's|that's|who's|what's|here's|there's|when's|where's|why's|how's|a|an|the|and|but|if|or|because|as|until|while|of|at|by|for|with|about|against|between|into|through|during|before|after|above|below|to|from|up|upon|down|in|out|on|off|over|under|again|further|then|once|here|there|when|where|why|how|all|any|both|each|few|more|most|other|some|such|no|nor|not|only|own|same|so|than|too|very|say|says|said|shall)",
           "type": "countpattern"
          },
          {
           "as": "angle",
           "expr": "[-45, 0, 45][~~(random() * 3)]",
           "type": "formula"
          },
          {
           "as": "weight",
           "expr": "if(datum.text=='VEGA', 600, 300)",
           "type": "formula"
          }
         ],
         "values": [
          "I'm tired of following my dreams. I'm just going to ask them where they are going and meet up with them later.\nDid you hear about the guy whose whole left side was cut off? He's all right now.\nWhy didn’t the skeleton cross the road? Because he had no guts.\nWhat did one nut say as he chased another nut?  I'm a cashew!\nWhere do fish keep their money? In the riverbank\nI accidentally took my cats meds last night. Don’t ask meow.\nChances are if you' ve seen one shopping center, you've seen a mall.\nDermatologists are always in a hurry. They spend all day making rash decisions. \nI knew I shouldn't steal a mixer from work, but it was a whisk I was willing to take.\nI won an argument with a weather forecaster once. His logic was cloudy...\nHow come the stadium got hot after the game? Because all of the fans left.\n\"Why do seagulls fly over the ocean?\" \"Because if they flew over the bay, we'd call them bagels.\"\nWhy was it called the dark ages? Because of all the knights. \nA steak pun is a rare medium well done.\nWhy did the tomato blush? Because it saw the salad dressing.\nDid you hear the joke about the wandering nun? She was a roman catholic.\nWhat creature is smarter than a talking parrot? A spelling bee.\nI'll tell you what often gets over looked... garden fences.\nWhy did the kid cross the playground? To get to the other slide.\nWhy do birds fly south for the winter? Because it's too far to walk.\nWhat is a centipedes's favorite Beatle song?  I want to hold your hand, hand, hand, hand...\nMy first time using an elevator was an uplifting experience. The second time let me down.\nTo be Frank, I'd have to change my name.\nSlept like a log last night … woke up in the fireplace.\nWhat do you call a female snake. misssssssss \nWhy does a Moon-rock taste better than an Earth-rock? Because it's a little meteor.\nI thought my wife was joking when she said she'd leave me if I didn't stop signing \"I'm A Believer\"... Then I saw her face.\nI’m only familiar with 25 letters in the English language. I don’t know why.\nWhat do you call two barracuda fish?  A Pairacuda!\nWhat did the father tomato say to the baby tomato whilst on a family walk? Ketchup."
         ]
        }
       ],
       "description": "A word cloud visualization depicting Vega research paper abstracts.",
       "height": 400,
       "marks": [
        {
         "encode": {
          "enter": {
           "align": {
            "value": "center"
           },
           "baseline": {
            "value": "alphabetic"
           },
           "fill": {
            "field": "text",
            "scale": "color"
           },
           "text": {
            "field": "text"
           }
          },
          "hover": {
           "fillOpacity": {
            "value": 0.5
           }
          },
          "update": {
           "fillOpacity": {
            "value": 1
           }
          }
         },
         "from": {
          "data": "table"
         },
         "transform": [
          {
           "font": "Helvetica Neue, Arial",
           "fontSize": {
            "field": "datum.count"
           },
           "fontSizeRange": [
            12,
            56
           ],
           "fontWeight": {
            "field": "datum.weight"
           },
           "padding": 2,
           "rotate": {
            "field": "datum.angle"
           },
           "size": [
            800,
            400
           ],
           "text": {
            "field": "text"
           },
           "type": "wordcloud"
          }
         ],
         "type": "text"
        }
       ],
       "padding": 0,
       "scales": [
        {
         "domain": {
          "data": "table",
          "field": "text"
         },
         "name": "color",
         "range": [
          "#d5a928",
          "#652c90",
          "#939597"
         ],
         "type": "ordinal"
        }
       ],
       "title": "Random Jokes Word Cloud",
       "width": 800
      }
     },
     "metadata": {},
     "output_type": "display_data"
    }
   ],
   "source": [
    "val jokes = requests.get(\"https://icanhazdadjoke.com/search?limit=50\", headers = Map(\"Accept\" -> \"text/plain\")).text()\n",
    "\n",
    "jokes.plotWordCloud(\n",
    "    List(\n",
    "        spec => spec(\"title\") = \"Random Jokes Word Cloud\"\n",
    "    )\n",
    ")\n"
   ]
  }
 ],
 "metadata": {
  "kernelspec": {
   "display_name": "Scala 3.3",
   "language": "scala",
   "name": "scala3"
  },
  "language_info": {
   "codemirror_mode": "text/x-scala",
   "file_extension": ".sc",
   "mimetype": "text/x-scala",
   "name": "scala",
   "nbconvert_exporter": "script",
   "version": "2.13.14"
  }
 },
 "nbformat": 4,
 "nbformat_minor": 2
}
